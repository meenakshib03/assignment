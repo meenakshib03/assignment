{
 "cells": [
  {
   "cell_type": "markdown",
   "id": "7cff87cb",
   "metadata": {},
   "source": [
    " "
   ]
  },
  {
   "attachments": {},
   "cell_type": "markdown",
   "id": "906fa7cb",
   "metadata": {},
   "source": [
    "# NAME:MEENAKSHI BHATTU\n",
    "USN:21BTRCD032"
   ]
  },
  {
   "cell_type": "markdown",
   "id": "388e950d",
   "metadata": {},
   "source": [
    "Attempt all the questions\n",
    "1)Create a Dataset Of your Own House, Such that you are analysing dataset & its different variables using pandas methods.Also use dropna(), fillna(mean,median,mode), Encoding techniques-replace(),category().get_dummies,Sklearn-ordinalencoder().\n",
    "\n",
    "\n",
    "2)Write short description of encoding & its methods"
   ]
  },
  {
   "cell_type": "markdown",
   "id": "63e4c7c8",
   "metadata": {},
   "source": [
    "# 1)Create a Dataset Of your Own House, "
   ]
  },
  {
   "cell_type": "code",
   "execution_count": 34,
   "id": "968d1135",
   "metadata": {},
   "outputs": [
    {
     "name": "stdout",
     "output_type": "stream",
     "text": [
      "  names_of_house_members have_bike  age  bikes_age\n",
      "1                 chinnu       yes   19        2.0\n",
      "2                  hansi        no   17        NaN\n",
      "3                sukanya       yes   37        5.0\n",
      "4                krishna       yes   45        5.0\n"
     ]
    }
   ],
   "source": [
    "import pandas as pd\n",
    "a={\"names_of_house_members\":[\"naven\",\"hansi\",\"sukanya\",\"krishna\"],\"have_bike\":[\"yes\",\"no\",\"yes\",\"yes\"],\"age\":[19,17,37,45],\"bikes_age\":[2,None,5,5]}\n",
    "house=pd.DataFrame(a,index=[1,2,3,4])\n",
    "house.rename_axis(\"S.NO\")\n",
    "print(house)"
   ]
  },
  {
   "cell_type": "markdown",
   "id": "f630aba8",
   "metadata": {},
   "source": [
    "# dropna()"
   ]
  },
  {
   "cell_type": "code",
   "execution_count": 35,
   "id": "fb92e7dc",
   "metadata": {},
   "outputs": [
    {
     "name": "stdout",
     "output_type": "stream",
     "text": [
      "dataframe without dropping\n",
      "  names_of_house_members have_bike  age  bikes_age\n",
      "1                 chinnu       yes   19        2.0\n",
      "2                  hansi        no   17        NaN\n",
      "3                sukanya       yes   37        5.0\n",
      "4                krishna       yes   45        5.0\n",
      "dataframe if we use dropna()\n",
      "  names_of_house_members have_bike  age  bikes_age\n",
      "1                 chinnu       yes   19        2.0\n",
      "3                sukanya       yes   37        5.0\n",
      "4                krishna       yes   45        5.0\n"
     ]
    }
   ],
   "source": [
    "print(\"dataframe without dropping\")\n",
    "print(house)\n",
    "droppeddf=house.dropna()\n",
    "print(\"dataframe if we use dropna()\")\n",
    "print(droppeddf)"
   ]
  },
  {
   "cell_type": "markdown",
   "id": "440ccc59",
   "metadata": {},
   "source": [
    "# fillna()"
   ]
  },
  {
   "cell_type": "markdown",
   "id": "275ae9e0",
   "metadata": {},
   "source": [
    "filling null values with mean()"
   ]
  },
  {
   "cell_type": "code",
   "execution_count": 39,
   "id": "70cd1ff8",
   "metadata": {},
   "outputs": [
    {
     "name": "stdout",
     "output_type": "stream",
     "text": [
      "  names_of_house_members have_bike  age  bikes_age\n",
      "1                 chinnu       yes   19        2.0\n",
      "2                  hansi        no   17        4.0\n",
      "3                sukanya       yes   37        5.0\n",
      "4                krishna       yes   45        5.0\n"
     ]
    }
   ],
   "source": [
    "#NOTE:here we have only one null value in bikes age column so we can do in the below way\n",
    "print(house.fillna(house[\"bikes_age\"].mean()))#if u see output it is filled with 4 which mean of ((2+5+5)/3==>4)"
   ]
  },
  {
   "cell_type": "markdown",
   "id": "f24a6f7f",
   "metadata": {},
   "source": [
    "filling null values with mode()"
   ]
  },
  {
   "cell_type": "code",
   "execution_count": 51,
   "id": "e5742f3b",
   "metadata": {},
   "outputs": [
    {
     "name": "stdout",
     "output_type": "stream",
     "text": [
      "  names_of_house_members have_bike  age  bikes_age\n",
      "1                 chinnu       yes   19        2.0\n",
      "2                  hansi        no   17        5.0\n",
      "3                sukanya       yes   37        5.0\n",
      "4                krishna       yes   45        5.0\n"
     ]
    }
   ],
   "source": [
    "print(house.fillna(house[\"bikes_age\"].mode()[0]))#here after mode we used [0] bcz it means the mode() returns more than one value if there are ties in count so this [0] means return the first value in case of tie"
   ]
  },
  {
   "cell_type": "markdown",
   "id": "a7c41d23",
   "metadata": {},
   "source": [
    "filling null values with median()"
   ]
  },
  {
   "cell_type": "code",
   "execution_count": 54,
   "id": "e602cd0f",
   "metadata": {},
   "outputs": [
    {
     "name": "stdout",
     "output_type": "stream",
     "text": [
      "  names_of_house_members have_bike  age  bikes_age\n",
      "1                 chinnu       yes   19        2.0\n",
      "2                  hansi        no   17        5.0\n",
      "3                sukanya       yes   37        5.0\n",
      "4                krishna       yes   45        5.0\n"
     ]
    }
   ],
   "source": [
    "print(house.fillna(house[\"bikes_age\"].median()))"
   ]
  },
  {
   "cell_type": "markdown",
   "id": "6dd505e5",
   "metadata": {},
   "source": [
    "# replace()"
   ]
  },
  {
   "cell_type": "markdown",
   "id": "7813d49b",
   "metadata": {},
   "source": [
    "replacing value in a coulumn()"
   ]
  },
  {
   "cell_type": "code",
   "execution_count": 67,
   "id": "64ba6162",
   "metadata": {},
   "outputs": [
    {
     "name": "stdout",
     "output_type": "stream",
     "text": [
      "  names_of_house_members have_bike  age  bikes_age\n",
      "1                 chinnu       yes   15        2.0\n",
      "2                  hansi        no   17        NaN\n",
      "3                sukanya       yes   37        5.0\n",
      "4                krishna       yes   45        5.0\n"
     ]
    }
   ],
   "source": [
    "house1=house\n",
    "house1[\"age\"]=house[\"age\"].replace(19,15)#output of rhs will be a coulmn of age only so we can assign it to age column of house1\n",
    "print(house1)"
   ]
  },
  {
   "cell_type": "code",
   "execution_count": 91,
   "id": "c4d26118",
   "metadata": {},
   "outputs": [
    {
     "name": "stdout",
     "output_type": "stream",
     "text": [
      "<class 'pandas.core.frame.DataFrame'>\n",
      "  names_of_house_members have_bike  age  bikes_age\n",
      "1                    kkr       yes   19        2.0\n",
      "2                  hansi        no   17        NaN\n",
      "3                sukanya       yes   37        5.0\n",
      "4                krishna       yes   45        5.0\n"
     ]
    }
   ],
   "source": [
    "#in the above method if the age(values) of two people are same then both will be changed so \n",
    "#say if i want to replace the age of chinnu only then we can do in the below way\n",
    "import pandas as pd\n",
    "a={\"names_of_house_members\":[\"chinnu\",\"hansi\",\"sukanya\",\"krishna\"],\"have_bike\":[\"yes\",\"no\",\"yes\",\"yes\"],\"age\":[19,17,37,45],\"bikes_age\":[2,None,5,5]}\n",
    "house=pd.DataFrame(a,index=[1,2,3,4])\n",
    "print(type(house))\n",
    "house.loc[1,\"names_of_house_members\"]=house.loc[1,\"names_of_house_members\"].replace(\"chinnu\",\"kkr\")\n",
    "print(house)\n",
    "#NOTE:IN THE ABOVE SCENARIO WE CANNOT REPLACE THE data of type \"int64\" "
   ]
  },
  {
   "cell_type": "markdown",
   "id": "e5dc78a3",
   "metadata": {},
   "source": [
    "# category()"
   ]
  },
  {
   "cell_type": "code",
   "execution_count": 97,
   "id": "6c1ceee7",
   "metadata": {},
   "outputs": [
    {
     "name": "stdout",
     "output_type": "stream",
     "text": [
      "names_of_house_members      object\n",
      "have_bike                   object\n",
      "age                       category\n",
      "bikes_age                  float64\n",
      "dtype: object\n"
     ]
    }
   ],
   "source": [
    "house[\"age\"]=house[\"age\"].astype(\"category\")\n",
    "print(house.dtypes)#see the output the data in series of \"age\" are converted from int64 to categorical data"
   ]
  },
  {
   "cell_type": "markdown",
   "id": "8b054264",
   "metadata": {},
   "source": [
    "# get_dummies()"
   ]
  },
  {
   "cell_type": "code",
   "execution_count": 100,
   "id": "d3aaced4",
   "metadata": {},
   "outputs": [
    {
     "name": "stdout",
     "output_type": "stream",
     "text": [
      "  names_of_house_members have_bike age  bikes_age  have_bike_no  \\\n",
      "1                    kkr       yes  19        2.0             0   \n",
      "2                  hansi        no  17        NaN             1   \n",
      "3                sukanya       yes  37        5.0             0   \n",
      "4                krishna       yes  45        5.0             0   \n",
      "\n",
      "   have_bike_yes  have_bike_no  have_bike_yes  have_bike_no  have_bike_yes  \n",
      "1              1             0              1             0              1  \n",
      "2              0             1              0             1              0  \n",
      "3              1             0              1             0              1  \n",
      "4              1             0              1             0              1  \n"
     ]
    }
   ],
   "source": [
    "dummy_vars = pd.get_dummies(house[\"have_bike\"], prefix=\"have_bike\")\n",
    "house = pd.concat([house, dummy_vars], axis=1)\n",
    "print(house)"
   ]
  },
  {
   "cell_type": "markdown",
   "id": "14a3e864",
   "metadata": {},
   "source": [
    "# Sklearn-ordinalencoder()"
   ]
  },
  {
   "cell_type": "code",
   "execution_count": 1,
   "id": "3b18639d",
   "metadata": {},
   "outputs": [
    {
     "name": "stdout",
     "output_type": "stream",
     "text": [
      "1    1.0\n",
      "2    0.0\n",
      "3    1.0\n",
      "4    1.0\n",
      "Name: have_bike_encoded, dtype: float64\n"
     ]
    }
   ],
   "source": [
    "import pandas as pd\n",
    "from sklearn.preprocessing import OrdinalEncoder\n",
    "\n",
    "a = {\"names_of_house_members\": [\"chinnu\", \"hansi\", \"sukanya\", \"krishna\"], \"have_bike\": [\"yes\", \"no\", \"yes\", \"yes\"], \"age\": [19, 17, 37, 45], \"bikes_age\": [2, None, 5, 5]}\n",
    "house = pd.DataFrame(a, index=[1, 2, 3, 4])\n",
    "encoder = OrdinalEncoder()\n",
    "house[\"have_bike_encoded\"] = encoder.fit_transform(house[[\"have_bike\"]])\n",
    "print(house[\"have_bike_encoded\"])"
   ]
  },
  {
   "cell_type": "markdown",
   "id": "9c8ba1fb",
   "metadata": {},
   "source": [
    "# 2)Write short description of encoding & its methods"
   ]
  },
  {
   "cell_type": "raw",
   "id": "084c7784",
   "metadata": {},
   "source": [
    "answer is in attched pdf"
   ]
  },
  {
   "cell_type": "code",
   "execution_count": null,
   "id": "3be2805d",
   "metadata": {},
   "outputs": [],
   "source": []
  }
 ],
 "metadata": {
  "kernelspec": {
   "display_name": "Python 3 (ipykernel)",
   "language": "python",
   "name": "python3"
  },
  "language_info": {
   "codemirror_mode": {
    "name": "ipython",
    "version": 3
   },
   "file_extension": ".py",
   "mimetype": "text/x-python",
   "name": "python",
   "nbconvert_exporter": "python",
   "pygments_lexer": "ipython3",
   "version": "3.9.13"
  }
 },
 "nbformat": 4,
 "nbformat_minor": 5
}
